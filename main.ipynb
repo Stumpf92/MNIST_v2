{
 "cells": [
  {
   "cell_type": "code",
   "execution_count": null,
   "metadata": {},
   "outputs": [],
   "source": [
    "from mlxtend.data import loadlocal_mnist\n",
    "import platform\n",
    "\n",
    "if not platform.system() == 'Windows':\n",
    "    dataset, labelset = loadlocal_mnist(\n",
    "            images_path='train-images-idx3-ubyte', \n",
    "            labels_path='train-labels-idx1-ubyte')\n",
    "\n",
    "else:\n",
    "    dataset, labelset = loadlocal_mnist(\n",
    "            images_path='train-images.idx3-ubyte', \n",
    "            labels_path='train-labels.idx1-ubyte')"
   ]
  },
  {
   "cell_type": "code",
   "execution_count": null,
   "metadata": {},
   "outputs": [],
   "source": [
    "print('Dimensions:' + str(dataset.shape))\n",
    "print('\\n1st row', dataset[0])"
   ]
  },
  {
   "cell_type": "code",
   "execution_count": null,
   "metadata": {},
   "outputs": [],
   "source": [
    "import numpy as np\n",
    "\n",
    "print('Digits:  0 1 2 3 4 5 6 7 8 9')\n",
    "print('labels: %s' % np.unique(labelset))\n",
    "print('Class distribution: %s' % np.bincount(labelset))"
   ]
  },
  {
   "cell_type": "code",
   "execution_count": null,
   "metadata": {},
   "outputs": [],
   "source": [
    "from sklearn.model_selection import train_test_split\n",
    "from keras.utils import to_categorical\n",
    "\n",
    "X_train , X_test, y_train , y_test = train_test_split(dataset, labelset)"
   ]
  }
 ],
 "metadata": {
  "kernelspec": {
   "display_name": "tf",
   "language": "python",
   "name": "python3"
  },
  "language_info": {
   "codemirror_mode": {
    "name": "ipython",
    "version": 3
   },
   "file_extension": ".py",
   "mimetype": "text/x-python",
   "name": "python",
   "nbconvert_exporter": "python",
   "pygments_lexer": "ipython3",
   "version": "3.9.18"
  }
 },
 "nbformat": 4,
 "nbformat_minor": 2
}
